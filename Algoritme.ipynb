{
 "cells": [
  {
   "cell_type": "code",
   "execution_count": null,
   "metadata": {},
   "outputs": [],
   "source": [
    "pip install azure-storage-blob"
   ]
  },
  {
   "cell_type": "code",
   "execution_count": 1,
   "metadata": {},
   "outputs": [
    {
     "name": "stdout",
     "output_type": "stream",
     "text": [
      "Afbeeldingen van week 1 worden gedownload.\n",
      "Alle afbeeldingen zijn gedownload.\n"
     ]
    }
   ],
   "source": [
    "#De nodige imports om het script te laten werken worden geïmporteerd.\n",
    "import os\n",
    "from azure.storage.blob import BlobServiceClient, __version__\n",
    "from multiprocessing.pool import ThreadPool\n",
    "import pathlib\n",
    "\n",
    "#De connectiestring die werd opgeslagen als systeem variable, wordt opgevraagd.\n",
    "connect_str = os.getenv('AZURE_STORAGE_CONNECTION_STRING')\n",
    "\n",
    "#We declareren de verschillende weken waarvan de foto's moeten worden opgehaald. En de paden waar de foto's moeten worden opgeslagen worden gedeclareerd.\n",
    "weken = [\"modelbotanic\"]\n",
    "local_path = \"C:/Users/yorbe/Documents/School/3ITF/AI/Lessons/Project4.0-Algoritme/Data/\"\n",
    "rootfolder = \"C:/Users/yorbe/Documents/School/3ITF/AI/Lessons/Project4.0-Algoritme/Data\"\n",
    "\n",
    "\n",
    "\n",
    "#We maken een klasse aan waarmee we de foto's uit de database kunnen halen.\n",
    "class AzureBlobFileDownloader():\n",
    "  #We verbinden het script met de databank en gaan in een container. (Bv mais-week-1)\n",
    "  def __init__(self, week):\n",
    "    self.blob_service_client =  BlobServiceClient.from_connection_string(connect_str)\n",
    "    self.my_container = self.blob_service_client.get_container_client(week)\n",
    " \n",
    "  #We lijsten alle foto's binnen een container op.\n",
    "  def download_all_blobs_in_container(self):\n",
    "    my_blobs = self.my_container.list_blobs()\n",
    "    result = self.run(my_blobs)\n",
    " \n",
    "  #We zorgen ervoor dat er 10 foto's per seconde gedownload worden.\n",
    "  def run(self,blobs):\n",
    "    with ThreadPool(processes=int(10)) as pool:\n",
    "     return pool.map(self.save_blob_locally, blobs)\n",
    " \n",
    "  #We declareren het pad waar de foto's gedownload moeten worden.\n",
    "  def download_path(self, folder):\n",
    "    return str(folder)\n",
    "\n",
    "  #We slagen de foto's effectief op.\n",
    "  def save_blob_locally(self, blob):\n",
    "    file_name = blob.name\n",
    "    bytes = self.my_container.get_blob_client(blob).download_blob().readall()\n",
    " \n",
    "    download_file_path = os.path.join(self.download_path(folder), file_name)\n",
    "\n",
    "    os.makedirs(os.path.dirname(download_file_path), exist_ok=True)\n",
    " \n",
    "    with open(download_file_path, \"wb\") as file:\n",
    "      file.write(bytes)\n",
    "    return file_name\n",
    " \n",
    "\n",
    "#We maken een while loop om alle weken te kunnen downloaden\n",
    "y=0\n",
    "while y <= len(weken)-1:\n",
    "  #We zetten de paden goed, en maken mappen aan per week.\n",
    "  os.chdir(rootfolder)\n",
    "\n",
    "  if not os.path.exists(weken[y]):\n",
    "    os.makedirs(weken[y])\n",
    "\n",
    "  folder = pathlib.Path().resolve() / weken[y]\n",
    "\n",
    "  print(\"Afbeeldingen van week\", y+1, \"worden gedownload.\")\n",
    "\n",
    "  #De klasse die we net hebben aangemaakt wordt aangesproken en de download paden worden gedeclareerd.\n",
    "  azure_blob_file_downloader = AzureBlobFileDownloader(weken[y])\n",
    "  azure_blob_file_downloader.download_all_blobs_in_container()\n",
    "  azure_blob_file_downloader.download_path(folder)\n",
    "  y +=1\n",
    "\n",
    "\n",
    "print(\"Alle afbeeldingen zijn gedownload.\")\n"
   ]
  },
  {
   "cell_type": "code",
   "execution_count": null,
   "metadata": {},
   "outputs": [],
   "source": [
    "!pip install -Uqq fastbook\n"
   ]
  },
  {
   "cell_type": "code",
   "execution_count": null,
   "metadata": {},
   "outputs": [],
   "source": [
    "import fastbook\n",
    "fastbook.setup_book()\n",
    "from fastbook import *\n",
    "from fastai.vision.widgets import *"
   ]
  },
  {
   "cell_type": "code",
   "execution_count": null,
   "metadata": {},
   "outputs": [],
   "source": [
    "path = \"C:/Users/yorbe/Documents/School/3ITF/AI/Lessons/Project4.0-Algoritme/Data/\""
   ]
  },
  {
   "cell_type": "code",
   "execution_count": null,
   "metadata": {},
   "outputs": [],
   "source": [
    "from fastai.vision.all import *\n",
    "filenames = get_image_files(path)\n",
    "print(filenames)"
   ]
  },
  {
   "cell_type": "code",
   "execution_count": null,
   "metadata": {},
   "outputs": [],
   "source": [
    "failed = verify_images(filenames)\n",
    "print(failed)"
   ]
  },
  {
   "cell_type": "code",
   "execution_count": null,
   "metadata": {},
   "outputs": [],
   "source": [
    "groeistadias = DataBlock(\n",
    "    blocks=(ImageBlock, CategoryBlock), \n",
    "    get_items=get_image_files, \n",
    "    splitter=RandomSplitter(valid_pct=0.2, seed=42),\n",
    "    get_y=parent_label,\n",
    "    item_tfms=Resize(460),\n",
    "    batch_tfms=aug_transforms(size=224, min_scale=0.75))"
   ]
  },
  {
   "cell_type": "code",
   "execution_count": null,
   "metadata": {},
   "outputs": [],
   "source": [
    "dls = groeistadias.dataloaders(path)"
   ]
  },
  {
   "cell_type": "code",
   "execution_count": null,
   "metadata": {},
   "outputs": [],
   "source": [
    "dls.train.show_batch(max_n=4, nrows=1)\n",
    "dls.valid.show_batch(max_n=4, nrows=1)"
   ]
  },
  {
   "cell_type": "code",
   "execution_count": null,
   "metadata": {},
   "outputs": [],
   "source": [
    "groeistadias = groeistadias.new(item_tfms=RandomResizedCrop(128, min_scale=0.3))\n",
    "dls = groeistadias.dataloaders(path)\n",
    "dls.train.show_batch(max_n=4, nrows=1)"
   ]
  },
  {
   "cell_type": "code",
   "execution_count": null,
   "metadata": {},
   "outputs": [],
   "source": [
    "groeistadias= cnn_learner(dls, resnet101, metrics=error_rate)\n",
    "groeistadias.fit_one_cycle(2, 3e-3)\n",
    "groeistadias.unfreeze()\n",
    "groeistadias.fit_one_cycle(4, lr_max=slice(1e-6,1e-4))\n",
    "groeistadias.fine_tune(2, freeze_epochs=1)\n"
   ]
  },
  {
   "cell_type": "code",
   "execution_count": null,
   "metadata": {},
   "outputs": [],
   "source": [
    "interp = ClassificationInterpretation.from_learner(groeistadias)\n",
    "interp.plot_confusion_matrix()"
   ]
  },
  {
   "cell_type": "code",
   "execution_count": null,
   "metadata": {},
   "outputs": [],
   "source": [
    "groeistadias.save('groeistadias')\n",
    "groeistadias.export()"
   ]
  }
 ],
 "metadata": {
  "interpreter": {
   "hash": "74862a2c84aeb2815f240516aae8a140afa61327014639c5e0ba7823a4826b14"
  },
  "kernelspec": {
   "display_name": "Python 3.9.7 64-bit",
   "language": "python",
   "name": "python3"
  },
  "language_info": {
   "codemirror_mode": {
    "name": "ipython",
    "version": 3
   },
   "file_extension": ".py",
   "mimetype": "text/x-python",
   "name": "python",
   "nbconvert_exporter": "python",
   "pygments_lexer": "ipython3",
   "version": "3.9.7"
  },
  "orig_nbformat": 4
 },
 "nbformat": 4,
 "nbformat_minor": 2
}
